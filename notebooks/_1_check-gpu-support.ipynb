{
 "cells": [
  {
   "cell_type": "code",
   "execution_count": 1,
   "metadata": {},
   "outputs": [],
   "source": [
    "from thinc.api import prefer_gpu"
   ]
  },
  {
   "cell_type": "code",
   "execution_count": 2,
   "metadata": {},
   "outputs": [
    {
     "data": {
      "text/plain": [
       "False"
      ]
     },
     "execution_count": 2,
     "metadata": {},
     "output_type": "execute_result"
    }
   ],
   "source": [
    "# check if GPU is available\n",
    "is_gpu = prefer_gpu()\n",
    "is_gpu"
   ]
  },
  {
   "cell_type": "code",
   "execution_count": 3,
   "metadata": {},
   "outputs": [
    {
     "ename": "NameError",
     "evalue": "name 'require_gpu' is not defined",
     "output_type": "error",
     "traceback": [
      "\u001b[0;31m---------------------------------------------------------------------------\u001b[0m",
      "\u001b[0;31mNameError\u001b[0m                                 Traceback (most recent call last)",
      "\u001b[0;32m<ipython-input-3-52c7cfa5b4f2>\u001b[0m in \u001b[0;36m<module>\u001b[0;34m\u001b[0m\n\u001b[1;32m      1\u001b[0m \u001b[0;31m# will raise an error if no GPU is available\u001b[0m\u001b[0;34m\u001b[0m\u001b[0;34m\u001b[0m\u001b[0m\n\u001b[0;32m----> 2\u001b[0;31m \u001b[0mrequire_gpu\u001b[0m\u001b[0;34m(\u001b[0m\u001b[0;34m)\u001b[0m\u001b[0;34m\u001b[0m\u001b[0m\n\u001b[0m",
      "\u001b[0;31mNameError\u001b[0m: name 'require_gpu' is not defined"
     ]
    }
   ],
   "source": [
    "# will raise an error if no GPU is available\n",
    "require_gpu()"
   ]
  },
  {
   "cell_type": "markdown",
   "metadata": {},
   "source": [
    "# Type check quiz"
   ]
  },
  {
   "cell_type": "code",
   "execution_count": 4,
   "metadata": {},
   "outputs": [],
   "source": [
    "from thinc.types import Floats3d, Ints1d\n",
    "\n",
    "def numpy_shapes_pop_quiz(arr1: Floats3d, indices: Ints1d):\n",
    "    # How many dimensions do each of these arrays have?\n",
    "    q1 = arr1[0]\n",
    "    q2 = arr1.mean()\n",
    "    q3 = arr1[1:, 0]\n",
    "    q4 = arr1[1:, :-1]\n",
    "    q5 = arr1.sum(axis=0)\n",
    "    q6 = arr1[1:, ..., :-1]\n",
    "    q7 = arr1.sum(axis=(0, 1), keepdims=True)\n",
    "    q8 = arr1[indices].cumsum()\n",
    "    q9 = arr1[indices[indices]].ptp(axis=(-2, -1))\n",
    "    # Run mypy over the snippet to find out your score!\n",
    "    reveal_type(q1)\n",
    "    reveal_type(q2)\n",
    "    reveal_type(q3)\n",
    "    reveal_type(q4)\n",
    "    reveal_type(q5)\n",
    "    reveal_type(q6)\n",
    "    reveal_type(q7)\n",
    "    reveal_type(q8)\n",
    "    reveal_type(q9)"
   ]
  },
  {
   "cell_type": "code",
   "execution_count": 5,
   "metadata": {},
   "outputs": [
    {
     "name": "stdout",
     "output_type": "stream",
     "text": [
      "mypy: can't read file 'tests.ipynb': No such file or directory\n"
     ]
    }
   ],
   "source": []
  },
  {
   "cell_type": "code",
   "execution_count": null,
   "metadata": {},
   "outputs": [],
   "source": []
  }
 ],
 "metadata": {
  "kernelspec": {
   "display_name": "Python [conda env:thinc.ai] *",
   "language": "python",
   "name": "conda-env-thinc.ai-py"
  },
  "language_info": {
   "codemirror_mode": {
    "name": "ipython",
    "version": 3
   },
   "file_extension": ".py",
   "mimetype": "text/x-python",
   "name": "python",
   "nbconvert_exporter": "python",
   "pygments_lexer": "ipython3",
   "version": "3.6.6"
  }
 },
 "nbformat": 4,
 "nbformat_minor": 4
}
