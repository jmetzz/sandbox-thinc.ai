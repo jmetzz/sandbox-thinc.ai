{
 "cells": [
  {
   "cell_type": "markdown",
   "metadata": {},
   "source": [
    "# Using config files\n",
    "\n",
    "Configuration is a huge problem for machine learning code, because you may want to expose almost any detail of any function as a hyperparameter. The setting you want to expose might be arbitrarily \n",
    "far down in your call stack. Default values also become hard to change without breaking backwards compatibility.\n",
    "\n",
    "To solve this problem, Thinc provides a config system that lets you easily describe arbitrary trees of objects. The objects can be created via function calls you register using a simple decorator syntax. The config can include values like hyperparameters or training settings (whatever you need), or references to functions and the values of their arguments.\n",
    "\n",
    "Thinc will parse the configuration file as a dict and fill in the references to values defined in other sections.\n",
    "For example, `${hyper_params:learn_rate}` is substituted with `0.001` in the next cell.\n",
    "\n",
    "Keys starting with `@` are references to **registered functions**.\n",
    "\n"
   ]
  },
  {
   "cell_type": "code",
   "execution_count": 1,
   "metadata": {},
   "outputs": [
    {
     "data": {
      "text/plain": [
       "{'hyper_params': {'learn_rate': 0.001},\n",
       " 'optimizer': {'@optimizers': 'Adam.v1', 'learn_rate': 0.001}}"
      ]
     },
     "execution_count": 1,
     "metadata": {},
     "output_type": "execute_result"
    }
   ],
   "source": [
    "from thinc.api import Config, registry\n",
    "\n",
    "EXAMPLE_CONFIG1 = \"\"\"\n",
    "[hyper_params]\n",
    "learn_rate = 0.001\n",
    "\n",
    "[optimizer]\n",
    "@optimizers = \"Adam.v1\"\n",
    "learn_rate = ${hyper_params:learn_rate}\n",
    "\"\"\"\n",
    "\n",
    "config1 = Config().from_str(EXAMPLE_CONFIG1)\n",
    "config1"
   ]
  },
  {
   "cell_type": "markdown",
   "metadata": {},
   "source": [
    "Configs can also define **nested blocks** using the `.` notation. In this example, `optimizer.learn_rate` defines the `learn_rate` argument of the `optimizer` block. Instead of a float, the learning rate can also be a generator – for instance, a linear warm-up rate:"
   ]
  },
  {
   "cell_type": "code",
   "execution_count": 2,
   "metadata": {},
   "outputs": [
    {
     "data": {
      "text/plain": [
       "{'optimizer': {'@optimizers': 'Adam.v1',\n",
       "  'learn_rate': {'@schedules': 'warmup_linear.v1',\n",
       "   'initial_rate': 2e-05,\n",
       "   'warmup_steps': 1000,\n",
       "   'total_steps': 10000}}}"
      ]
     },
     "execution_count": 2,
     "metadata": {},
     "output_type": "execute_result"
    }
   ],
   "source": [
    "EXAMPLE_CONFIG2 = \"\"\"\n",
    "[optimizer]\n",
    "@optimizers = \"Adam.v1\"\n",
    "\n",
    "[optimizer.learn_rate]\n",
    "@schedules = \"warmup_linear.v1\"\n",
    "initial_rate = 2e-5\n",
    "warmup_steps = 1000\n",
    "total_steps = 10000\n",
    "\"\"\"\n",
    "\n",
    "config2 = Config().from_str(EXAMPLE_CONFIG2)\n",
    "config2"
   ]
  },
  {
   "cell_type": "markdown",
   "metadata": {},
   "source": [
    "Thinc will create the optimizer and pass in the schedule as the `learn_rate` argument.\n",
    "Each element of the `optimizer` object is accessible via `get()` method or using `[]` notation. For example:\n"
   ]
  },
  {
   "cell_type": "code",
   "execution_count": 21,
   "metadata": {},
   "outputs": [
    {
     "name": "stdout",
     "output_type": "stream",
     "text": [
      "initial learn rate: 2e-05\n",
      "initial learn rate: 2e-05\n",
      "initial learn rate: 2e-05\n"
     ]
    }
   ],
   "source": [
    "print(f\"initial learn rate: {config2['optimizer'].get('learn_rate').get('initial_rate')}\")\n",
    "print(f\"initial learn rate: {config2['optimizer']['learn_rate'].get('initial_rate')}\")\n",
    "print(f\"initial learn rate: {config2['optimizer']['learn_rate']['initial_rate']}\")"
   ]
  }
 ],
 "metadata": {
  "kernelspec": {
   "display_name": "Python 3",
   "language": "python",
   "name": "python3"
  },
  "language_info": {
   "codemirror_mode": {
    "name": "ipython",
    "version": 3
   },
   "file_extension": ".py",
   "mimetype": "text/x-python",
   "name": "python",
   "nbconvert_exporter": "python",
   "pygments_lexer": "ipython3",
   "version": "3.7.0"
  },
  "pycharm": {
   "stem_cell": {
    "cell_type": "raw",
    "metadata": {
     "collapsed": false
    },
    "source": []
   }
  }
 },
 "nbformat": 4,
 "nbformat_minor": 4
}
