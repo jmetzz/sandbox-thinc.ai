{
 "cells": [
  {
   "cell_type": "markdown",
   "metadata": {
    "pycharm": {
     "name": "#%% md\n"
    }
   },
   "source": [
    "# Model definition\n",
    "\n",
    "Let's create a model with 2 Relu with Dropout hidden layers, and a Softmax output layer. Set the number of units in each \n",
    "hidden layer to 32, and use dropout rate of 0.2. Moreover, let's use Adam optimizer with `learn_rate = 0.001`, \n",
    "10 iterations over batches of 128 elements.\n"
   ]
  },
  {
   "cell_type": "code",
   "execution_count": 1,
   "metadata": {},
   "outputs": [
    {
     "name": "stdout",
     "output_type": "stream",
     "text": [
      "Requirement already satisfied: thinc>=8.0.0a0 in /Users/jean.metz/miniconda/envs/thinc.ai/lib/python3.7/site-packages (8.0.0a1)\n",
      "Requirement already satisfied: ml_datasets in /Users/jean.metz/miniconda/envs/thinc.ai/lib/python3.7/site-packages (0.1.6)\n",
      "Requirement already satisfied: tqdm>=4.41 in /Users/jean.metz/miniconda/envs/thinc.ai/lib/python3.7/site-packages (4.46.0)\n",
      "Requirement already satisfied: tensorflow>2.0 in /Users/jean.metz/miniconda/envs/thinc.ai/lib/python3.7/site-packages (2.0.2)\n",
      "Requirement already satisfied: srsly<3.0.0,>=2.0.0 in /Users/jean.metz/miniconda/envs/thinc.ai/lib/python3.7/site-packages (from thinc>=8.0.0a0) (2.0.1)\n",
      "Requirement already satisfied: wasabi<1.1.0,>=0.4.0 in /Users/jean.metz/miniconda/envs/thinc.ai/lib/python3.7/site-packages (from thinc>=8.0.0a0) (0.6.0)\n",
      "Requirement already satisfied: cymem<2.1.0,>=2.0.2 in /Users/jean.metz/miniconda/envs/thinc.ai/lib/python3.7/site-packages (from thinc>=8.0.0a0) (2.0.3)\n",
      "Requirement already satisfied: setuptools in /Users/jean.metz/miniconda/envs/thinc.ai/lib/python3.7/site-packages (from thinc>=8.0.0a0) (46.4.0.post20200518)\n",
      "Requirement already satisfied: murmurhash<1.1.0,>=0.28.0 in /Users/jean.metz/miniconda/envs/thinc.ai/lib/python3.7/site-packages (from thinc>=8.0.0a0) (1.0.2)\n",
      "Requirement already satisfied: pydantic<2.0.0,>=1.4.0 in /Users/jean.metz/miniconda/envs/thinc.ai/lib/python3.7/site-packages (from thinc>=8.0.0a0) (1.5.1)\n",
      "Requirement already satisfied: preshed<3.1.0,>=3.0.2 in /Users/jean.metz/miniconda/envs/thinc.ai/lib/python3.7/site-packages (from thinc>=8.0.0a0) (3.0.2)\n",
      "Requirement already satisfied: numpy>=1.7.0 in /Users/jean.metz/miniconda/envs/thinc.ai/lib/python3.7/site-packages (from thinc>=8.0.0a0) (1.18.1)\n",
      "Requirement already satisfied: typing-extensions<4.0.0.0,>=3.7.4.1; python_version < \"3.8\" in /Users/jean.metz/miniconda/envs/thinc.ai/lib/python3.7/site-packages (from thinc>=8.0.0a0) (3.7.4.1)\n",
      "Requirement already satisfied: catalogue<3.0.0,>=0.2.0 in /Users/jean.metz/miniconda/envs/thinc.ai/lib/python3.7/site-packages (from thinc>=8.0.0a0) (2.0.0)\n",
      "Requirement already satisfied: google-pasta>=0.1.6 in /Users/jean.metz/miniconda/envs/thinc.ai/lib/python3.7/site-packages (from tensorflow>2.0) (0.2.0)\n",
      "Requirement already satisfied: absl-py>=0.7.0 in /Users/jean.metz/miniconda/envs/thinc.ai/lib/python3.7/site-packages (from tensorflow>2.0) (0.9.0)\n",
      "Requirement already satisfied: grpcio>=1.8.6 in /Users/jean.metz/miniconda/envs/thinc.ai/lib/python3.7/site-packages (from tensorflow>2.0) (1.29.0)\n",
      "Requirement already satisfied: opt-einsum>=2.3.2 in /Users/jean.metz/miniconda/envs/thinc.ai/lib/python3.7/site-packages (from tensorflow>2.0) (3.2.1)\n",
      "Requirement already satisfied: tensorboard<2.1.0,>=2.0.0 in /Users/jean.metz/miniconda/envs/thinc.ai/lib/python3.7/site-packages (from tensorflow>2.0) (2.0.2)\n",
      "Requirement already satisfied: astor>=0.6.0 in /Users/jean.metz/miniconda/envs/thinc.ai/lib/python3.7/site-packages (from tensorflow>2.0) (0.8.1)\n",
      "Requirement already satisfied: protobuf>=3.6.1 in /Users/jean.metz/miniconda/envs/thinc.ai/lib/python3.7/site-packages (from tensorflow>2.0) (3.12.1)\n",
      "Requirement already satisfied: gast==0.2.2 in /Users/jean.metz/miniconda/envs/thinc.ai/lib/python3.7/site-packages (from tensorflow>2.0) (0.2.2)\n",
      "Requirement already satisfied: keras-preprocessing>=1.0.5 in /Users/jean.metz/miniconda/envs/thinc.ai/lib/python3.7/site-packages (from tensorflow>2.0) (1.1.2)\n",
      "Requirement already satisfied: tensorflow-estimator<2.1.0,>=2.0.0 in /Users/jean.metz/miniconda/envs/thinc.ai/lib/python3.7/site-packages (from tensorflow>2.0) (2.0.1)\n",
      "Requirement already satisfied: wrapt>=1.11.1 in /Users/jean.metz/miniconda/envs/thinc.ai/lib/python3.7/site-packages (from tensorflow>2.0) (1.12.1)\n",
      "Requirement already satisfied: wheel>=0.26; python_version >= \"3\" in /Users/jean.metz/miniconda/envs/thinc.ai/lib/python3.7/site-packages (from tensorflow>2.0) (0.34.2)\n",
      "Requirement already satisfied: keras-applications>=1.0.8 in /Users/jean.metz/miniconda/envs/thinc.ai/lib/python3.7/site-packages (from tensorflow>2.0) (1.0.8)\n",
      "Requirement already satisfied: termcolor>=1.1.0 in /Users/jean.metz/miniconda/envs/thinc.ai/lib/python3.7/site-packages (from tensorflow>2.0) (1.1.0)\n",
      "Requirement already satisfied: six>=1.10.0 in /Users/jean.metz/miniconda/envs/thinc.ai/lib/python3.7/site-packages (from tensorflow>2.0) (1.14.0)\n",
      "Requirement already satisfied: importlib-metadata>=0.20; python_version < \"3.8\" in /Users/jean.metz/miniconda/envs/thinc.ai/lib/python3.7/site-packages (from catalogue<3.0.0,>=0.2.0->thinc>=8.0.0a0) (1.6.0)\n",
      "Requirement already satisfied: werkzeug>=0.11.15 in /Users/jean.metz/miniconda/envs/thinc.ai/lib/python3.7/site-packages (from tensorboard<2.1.0,>=2.0.0->tensorflow>2.0) (1.0.1)\n",
      "Requirement already satisfied: google-auth<2,>=1.6.3 in /Users/jean.metz/miniconda/envs/thinc.ai/lib/python3.7/site-packages (from tensorboard<2.1.0,>=2.0.0->tensorflow>2.0) (1.15.0)\n",
      "Requirement already satisfied: requests<3,>=2.21.0 in /Users/jean.metz/miniconda/envs/thinc.ai/lib/python3.7/site-packages (from tensorboard<2.1.0,>=2.0.0->tensorflow>2.0) (2.23.0)\n",
      "Requirement already satisfied: google-auth-oauthlib<0.5,>=0.4.1 in /Users/jean.metz/miniconda/envs/thinc.ai/lib/python3.7/site-packages (from tensorboard<2.1.0,>=2.0.0->tensorflow>2.0) (0.4.1)\n",
      "Requirement already satisfied: markdown>=2.6.8 in /Users/jean.metz/miniconda/envs/thinc.ai/lib/python3.7/site-packages (from tensorboard<2.1.0,>=2.0.0->tensorflow>2.0) (3.2.2)\n",
      "Requirement already satisfied: h5py in /Users/jean.metz/miniconda/envs/thinc.ai/lib/python3.7/site-packages (from keras-applications>=1.0.8->tensorflow>2.0) (2.10.0)\n",
      "Requirement already satisfied: zipp>=0.5 in /Users/jean.metz/miniconda/envs/thinc.ai/lib/python3.7/site-packages (from importlib-metadata>=0.20; python_version < \"3.8\"->catalogue<3.0.0,>=0.2.0->thinc>=8.0.0a0) (2.2.0)\n",
      "Requirement already satisfied: pyasn1-modules>=0.2.1 in /Users/jean.metz/miniconda/envs/thinc.ai/lib/python3.7/site-packages (from google-auth<2,>=1.6.3->tensorboard<2.1.0,>=2.0.0->tensorflow>2.0) (0.2.8)\n",
      "Requirement already satisfied: cachetools<5.0,>=2.0.0 in /Users/jean.metz/miniconda/envs/thinc.ai/lib/python3.7/site-packages (from google-auth<2,>=1.6.3->tensorboard<2.1.0,>=2.0.0->tensorflow>2.0) (4.1.0)\n",
      "Requirement already satisfied: rsa<4.1,>=3.1.4 in /Users/jean.metz/miniconda/envs/thinc.ai/lib/python3.7/site-packages (from google-auth<2,>=1.6.3->tensorboard<2.1.0,>=2.0.0->tensorflow>2.0) (4.0)\n",
      "Requirement already satisfied: certifi>=2017.4.17 in /Users/jean.metz/miniconda/envs/thinc.ai/lib/python3.7/site-packages (from requests<3,>=2.21.0->tensorboard<2.1.0,>=2.0.0->tensorflow>2.0) (2020.4.5.1)\n",
      "Requirement already satisfied: idna<3,>=2.5 in /Users/jean.metz/miniconda/envs/thinc.ai/lib/python3.7/site-packages (from requests<3,>=2.21.0->tensorboard<2.1.0,>=2.0.0->tensorflow>2.0) (2.9)\n",
      "Requirement already satisfied: urllib3!=1.25.0,!=1.25.1,<1.26,>=1.21.1 in /Users/jean.metz/miniconda/envs/thinc.ai/lib/python3.7/site-packages (from requests<3,>=2.21.0->tensorboard<2.1.0,>=2.0.0->tensorflow>2.0) (1.25.9)\n",
      "Requirement already satisfied: chardet<4,>=3.0.2 in /Users/jean.metz/miniconda/envs/thinc.ai/lib/python3.7/site-packages (from requests<3,>=2.21.0->tensorboard<2.1.0,>=2.0.0->tensorflow>2.0) (3.0.4)\n",
      "Requirement already satisfied: requests-oauthlib>=0.7.0 in /Users/jean.metz/miniconda/envs/thinc.ai/lib/python3.7/site-packages (from google-auth-oauthlib<0.5,>=0.4.1->tensorboard<2.1.0,>=2.0.0->tensorflow>2.0) (1.3.0)\n",
      "Requirement already satisfied: pyasn1<0.5.0,>=0.4.6 in /Users/jean.metz/miniconda/envs/thinc.ai/lib/python3.7/site-packages (from pyasn1-modules>=0.2.1->google-auth<2,>=1.6.3->tensorboard<2.1.0,>=2.0.0->tensorflow>2.0) (0.4.8)\n",
      "Requirement already satisfied: oauthlib>=3.0.0 in /Users/jean.metz/miniconda/envs/thinc.ai/lib/python3.7/site-packages (from requests-oauthlib>=0.7.0->google-auth-oauthlib<0.5,>=0.4.1->tensorboard<2.1.0,>=2.0.0->tensorflow>2.0) (3.1.0)\n"
     ]
    }
   ],
   "source": [
    "!pip install \"thinc>=8.0.0a0\" ml_datasets \"tqdm>=4.41\" \"tensorflow>2.0\"\n"
   ]
  },
  {
   "cell_type": "code",
   "execution_count": 2,
   "metadata": {
    "collapsed": false,
    "jupyter": {
     "outputs_hidden": false
    },
    "pycharm": {
     "name": "#%%\n"
    }
   },
   "outputs": [
    {
     "data": {
      "text/plain": [
       "False"
      ]
     },
     "execution_count": 2,
     "metadata": {},
     "output_type": "execute_result"
    }
   ],
   "source": [
    "# Perform operations on GPU if available\n",
    "from thinc.api import prefer_gpu\n",
    "prefer_gpu()\n"
   ]
  },
  {
   "cell_type": "code",
   "execution_count": 3,
   "metadata": {},
   "outputs": [
    {
     "name": "stdout",
     "output_type": "stream",
     "text": [
      "/Users/jean.metz/workspace/jmetzz/sandbox-thinc.ai\n",
      "['/Users/jean.metz/workspace/jmetzz/sandbox-thinc.ai/src', '/Users/jean.metz/workspace/jmetzz/sandbox-thinc.ai/notebooks', '/Users/jean.metz/miniconda/envs/thinc.ai/lib/python37.zip', '/Users/jean.metz/miniconda/envs/thinc.ai/lib/python3.7', '/Users/jean.metz/miniconda/envs/thinc.ai/lib/python3.7/lib-dynload', '', '/Users/jean.metz/miniconda/envs/thinc.ai/lib/python3.7/site-packages', '/Users/jean.metz/miniconda/envs/thinc.ai/lib/python3.7/site-packages/IPython/extensions', '/Users/jean.metz/.ipython']\n"
     ]
    }
   ],
   "source": [
    "# Add src to sys.path\n",
    "\n",
    "import sys\n",
    "import os\n",
    "from pathlib import PurePath\n",
    "\n",
    "# add custom python modules root to the path variable,\n",
    "root_path = PurePath(os.getcwd()).parents[0]\n",
    "print(root_path)\n",
    "src_path = str(root_path.joinpath('src'))\n",
    "\n",
    "if src_path not in sys.path:\n",
    "    sys.path.insert(0, str(src_path))\n",
    "\n",
    "print(sys.path)\n",
    "\n"
   ]
  },
  {
   "cell_type": "code",
   "execution_count": 4,
   "metadata": {
    "collapsed": false,
    "jupyter": {
     "outputs_hidden": false
    },
    "pycharm": {
     "name": "#%% \n"
    }
   },
   "outputs": [
    {
     "data": {
      "text/plain": [
       "<thinc.model.Model at 0x163e507b8>"
      ]
     },
     "execution_count": 4,
     "metadata": {},
     "output_type": "execute_result"
    }
   ],
   "source": [
    "from tensorflow.keras.layers import Dense, Dropout\n",
    "from tensorflow.keras.models import Sequential\n",
    "from thinc.api import TensorFlowWrapper, Adam\n",
    "import ml_datasets\n",
    "\n",
    "width = 32\n",
    "nI = 784\n",
    "nO = 10\n",
    "dropout = 0.2\n",
    "\n",
    "tf_model = Sequential()\n",
    "tf_model.add(Dense(width, activation=\"relu\", input_shape=(nI,)))\n",
    "tf_model.add(Dropout(dropout))\n",
    "tf_model.add(Dense(width, activation=\"relu\", input_shape=(nI,)))\n",
    "tf_model.add(Dropout(dropout))\n",
    "tf_model.add(Dense(nO, activation=\"softmax\"))\n",
    "\n",
    "wrapped_tf_model = TensorFlowWrapper(tf_model)\n",
    "wrapped_tf_model"
   ]
  },
  {
   "cell_type": "code",
   "execution_count": 5,
   "metadata": {
    "collapsed": false,
    "jupyter": {
     "outputs_hidden": false
    },
    "pycharm": {
     "name": "#%%\n"
    }
   },
   "outputs": [
    {
     "name": "stderr",
     "output_type": "stream",
     "text": [
      "  4%|▍         | 17/422 [00:00<00:02, 165.59it/s] "
     ]
    },
    {
     "name": "stdout",
     "output_type": "stream",
     "text": [
      "0\t19458.03\t0.909\n"
     ]
    },
    {
     "name": "stderr",
     "output_type": "stream",
     "text": [
      "  4%|▎         | 15/422 [00:00<00:02, 144.86it/s] "
     ]
    },
    {
     "name": "stdout",
     "output_type": "stream",
     "text": [
      "1\t10153.00\t0.926\n"
     ]
    },
    {
     "name": "stderr",
     "output_type": "stream",
     "text": [
      "  4%|▍         | 17/422 [00:00<00:02, 166.94it/s] "
     ]
    },
    {
     "name": "stdout",
     "output_type": "stream",
     "text": [
      "2\t8411.49\t0.933\n"
     ]
    },
    {
     "name": "stderr",
     "output_type": "stream",
     "text": [
      "  4%|▍         | 17/422 [00:00<00:02, 169.78it/s] "
     ]
    },
    {
     "name": "stdout",
     "output_type": "stream",
     "text": [
      "3\t7659.09\t0.940\n"
     ]
    },
    {
     "name": "stderr",
     "output_type": "stream",
     "text": [
      "  4%|▍         | 16/422 [00:00<00:02, 156.96it/s] "
     ]
    },
    {
     "name": "stdout",
     "output_type": "stream",
     "text": [
      "4\t7152.36\t0.943\n"
     ]
    },
    {
     "name": "stderr",
     "output_type": "stream",
     "text": [
      "  4%|▍         | 17/422 [00:00<00:02, 164.58it/s] "
     ]
    },
    {
     "name": "stdout",
     "output_type": "stream",
     "text": [
      "5\t6604.79\t0.945\n"
     ]
    },
    {
     "name": "stderr",
     "output_type": "stream",
     "text": [
      "  4%|▍         | 17/422 [00:00<00:02, 162.60it/s] "
     ]
    },
    {
     "name": "stdout",
     "output_type": "stream",
     "text": [
      "6\t6413.31\t0.948\n"
     ]
    },
    {
     "name": "stderr",
     "output_type": "stream",
     "text": [
      "  4%|▍         | 17/422 [00:00<00:02, 168.10it/s] "
     ]
    },
    {
     "name": "stdout",
     "output_type": "stream",
     "text": [
      "7\t6095.71\t0.950\n"
     ]
    },
    {
     "name": "stderr",
     "output_type": "stream",
     "text": [
      "  4%|▍         | 17/422 [00:00<00:02, 168.44it/s] "
     ]
    },
    {
     "name": "stdout",
     "output_type": "stream",
     "text": [
      "8\t5937.75\t0.951\n"
     ]
    },
    {
     "name": "stderr",
     "output_type": "stream",
     "text": [
      "                                                  \r"
     ]
    },
    {
     "name": "stdout",
     "output_type": "stream",
     "text": [
      "9\t5632.63\t0.952\n"
     ]
    }
   ],
   "source": [
    "# You can use this training code to train the model:\n",
    "\n",
    "(train_X, train_Y), (test_X, test_Y) = ml_datasets.mnist()\n",
    "optimizer = Adam(0.001)\n",
    "# wrapped_tf_model.initialize(X=train_X[:5], Y=train_Y[:5])\n",
    "\n",
    "from train import train_model\n",
    "train_model(((train_X, train_Y), (test_X, test_Y)), wrapped_tf_model, optimizer, n_iter=10, batch_size=128)\n"
   ]
  },
  {
   "cell_type": "code",
   "execution_count": null,
   "metadata": {
    "collapsed": false,
    "jupyter": {
     "outputs_hidden": false
    },
    "pycharm": {
     "name": "#%%\n"
    }
   },
   "outputs": [],
   "source": [
    "\n"
   ]
  }
 ],
 "metadata": {
  "kernelspec": {
   "display_name": "Python 3",
   "language": "python",
   "name": "python3"
  },
  "language_info": {
   "codemirror_mode": {
    "name": "ipython",
    "version": 3
   },
   "file_extension": ".py",
   "mimetype": "text/x-python",
   "name": "python",
   "nbconvert_exporter": "python",
   "pygments_lexer": "ipython3",
   "version": "3.7.0"
  },
  "pycharm": {
   "stem_cell": {
    "cell_type": "raw",
    "metadata": {
     "collapsed": false
    },
    "source": []
   }
  }
 },
 "nbformat": 4,
 "nbformat_minor": 4
}
