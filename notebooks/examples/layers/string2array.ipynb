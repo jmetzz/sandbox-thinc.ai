{
 "cells": [
  {
   "cell_type": "code",
   "execution_count": 3,
   "metadata": {},
   "outputs": [],
   "source": [
    "from thinc.api import HashEmbed, Maxout, Softmax, expand_window, Relu\n",
    "from thinc.api import residual, strings2arrays, with_array, clone, chain, concatenate\n",
    "from thinc.layers import noop\n",
    "\n",
    "import ml_datasets"
   ]
  },
  {
   "cell_type": "code",
   "execution_count": 19,
   "metadata": {},
   "outputs": [
    {
     "output_type": "stream",
     "name": "stdout",
     "text": "['El', 'presidente', 'de', 'el', 'órgano', 'regulador', 'de', 'las', 'Telecomunicaciones', 'se', 'mostró', 'partidario', 'de', 'completar', 'esta', 'liberalización', 'de', 'las', 'telecomunicaciones', 'con', 'otras', 'medidas', 'que', 'incentiven', 'la', 'competencia', 'como', 'puede', 'ser', 'abrir', 'el', 'acceso', 'a', 'la', 'información', 'de', 'los', 'clientes', 'de', 'Telefónica', 'a', 'otros', 'operadores', '.']\n\nSentente size: 44\n44\n[[1. 0. 0. 0. 0. 0. 0. 0. 0. 0. 0. 0. 0. 0. 0. 0. 0.]\n [0. 1. 0. 0. 0. 0. 0. 0. 0. 0. 0. 0. 0. 0. 0. 0. 0.]\n [0. 0. 1. 0. 0. 0. 0. 0. 0. 0. 0. 0. 0. 0. 0. 0. 0.]\n [1. 0. 0. 0. 0. 0. 0. 0. 0. 0. 0. 0. 0. 0. 0. 0. 0.]\n [0. 1. 0. 0. 0. 0. 0. 0. 0. 0. 0. 0. 0. 0. 0. 0. 0.]\n [0. 0. 0. 1. 0. 0. 0. 0. 0. 0. 0. 0. 0. 0. 0. 0. 0.]\n [0. 0. 1. 0. 0. 0. 0. 0. 0. 0. 0. 0. 0. 0. 0. 0. 0.]\n [1. 0. 0. 0. 0. 0. 0. 0. 0. 0. 0. 0. 0. 0. 0. 0. 0.]\n [0. 0. 0. 0. 1. 0. 0. 0. 0. 0. 0. 0. 0. 0. 0. 0. 0.]\n [0. 0. 0. 0. 0. 1. 0. 0. 0. 0. 0. 0. 0. 0. 0. 0. 0.]\n [0. 0. 0. 0. 0. 0. 1. 0. 0. 0. 0. 0. 0. 0. 0. 0. 0.]\n [0. 0. 0. 1. 0. 0. 0. 0. 0. 0. 0. 0. 0. 0. 0. 0. 0.]\n [0. 0. 1. 0. 0. 0. 0. 0. 0. 0. 0. 0. 0. 0. 0. 0. 0.]\n [0. 0. 0. 0. 0. 0. 1. 0. 0. 0. 0. 0. 0. 0. 0. 0. 0.]\n [1. 0. 0. 0. 0. 0. 0. 0. 0. 0. 0. 0. 0. 0. 0. 0. 0.]\n [0. 1. 0. 0. 0. 0. 0. 0. 0. 0. 0. 0. 0. 0. 0. 0. 0.]\n [0. 0. 1. 0. 0. 0. 0. 0. 0. 0. 0. 0. 0. 0. 0. 0. 0.]\n [1. 0. 0. 0. 0. 0. 0. 0. 0. 0. 0. 0. 0. 0. 0. 0. 0.]\n [0. 1. 0. 0. 0. 0. 0. 0. 0. 0. 0. 0. 0. 0. 0. 0. 0.]\n [0. 0. 1. 0. 0. 0. 0. 0. 0. 0. 0. 0. 0. 0. 0. 0. 0.]\n [1. 0. 0. 0. 0. 0. 0. 0. 0. 0. 0. 0. 0. 0. 0. 0. 0.]\n [0. 1. 0. 0. 0. 0. 0. 0. 0. 0. 0. 0. 0. 0. 0. 0. 0.]\n [0. 0. 0. 0. 0. 1. 0. 0. 0. 0. 0. 0. 0. 0. 0. 0. 0.]\n [0. 0. 0. 0. 0. 0. 1. 0. 0. 0. 0. 0. 0. 0. 0. 0. 0.]\n [1. 0. 0. 0. 0. 0. 0. 0. 0. 0. 0. 0. 0. 0. 0. 0. 0.]\n [0. 1. 0. 0. 0. 0. 0. 0. 0. 0. 0. 0. 0. 0. 0. 0. 0.]\n [0. 0. 0. 0. 0. 0. 0. 1. 0. 0. 0. 0. 0. 0. 0. 0. 0.]\n [0. 1. 0. 0. 0. 0. 0. 0. 0. 0. 0. 0. 0. 0. 0. 0. 0.]\n [0. 1. 0. 0. 0. 0. 0. 0. 0. 0. 0. 0. 0. 0. 0. 0. 0.]\n [0. 0. 0. 0. 0. 0. 1. 0. 0. 0. 0. 0. 0. 0. 0. 0. 0.]\n [1. 0. 0. 0. 0. 0. 0. 0. 0. 0. 0. 0. 0. 0. 0. 0. 0.]\n [0. 1. 0. 0. 0. 0. 0. 0. 0. 0. 0. 0. 0. 0. 0. 0. 0.]\n [0. 0. 1. 0. 0. 0. 0. 0. 0. 0. 0. 0. 0. 0. 0. 0. 0.]\n [1. 0. 0. 0. 0. 0. 0. 0. 0. 0. 0. 0. 0. 0. 0. 0. 0.]\n [0. 1. 0. 0. 0. 0. 0. 0. 0. 0. 0. 0. 0. 0. 0. 0. 0.]\n [0. 0. 1. 0. 0. 0. 0. 0. 0. 0. 0. 0. 0. 0. 0. 0. 0.]\n [1. 0. 0. 0. 0. 0. 0. 0. 0. 0. 0. 0. 0. 0. 0. 0. 0.]\n [0. 1. 0. 0. 0. 0. 0. 0. 0. 0. 0. 0. 0. 0. 0. 0. 0.]\n [0. 0. 1. 0. 0. 0. 0. 0. 0. 0. 0. 0. 0. 0. 0. 0. 0.]\n [0. 0. 0. 0. 1. 0. 0. 0. 0. 0. 0. 0. 0. 0. 0. 0. 0.]\n [0. 0. 1. 0. 0. 0. 0. 0. 0. 0. 0. 0. 0. 0. 0. 0. 0.]\n [1. 0. 0. 0. 0. 0. 0. 0. 0. 0. 0. 0. 0. 0. 0. 0. 0.]\n [0. 1. 0. 0. 0. 0. 0. 0. 0. 0. 0. 0. 0. 0. 0. 0. 0.]\n [0. 0. 0. 0. 0. 0. 0. 0. 1. 0. 0. 0. 0. 0. 0. 0. 0.]]\nOutput type: <class 'list'>\nOutput size: 1\nOutput embedding type: <class 'numpy.ndarray'>\nOutput embedding shape: (44, 1)\nThe result:\n"
    },
    {
     "output_type": "execute_result",
     "data": {
      "text/plain": "array([[18446744072083554475, 18446744073255727043,            543259558,\n        18446744072252264504,           1103121568,           1399176523,\n                   543259558,            797000761,           1617915982,\n        18446744072931898881,           1195312295,             87281376,\n                   543259558, 18446744071926469705,            723188833,\n        18446744072928539352,            543259558,            797000761,\n        18446744073045935379,            807352699,           1025333401,\n        18446744073667574632,            785491873, 18446744073006937574,\n                   823349694, 18446744072810868504,           1245366323,\n                   278659925, 18446744072541521126, 18446744073147948567,\n        18446744072252264504, 18446744071590211959,           1009084850,\n                   823349694,           1774907633,            543259558,\n                  1789020513, 18446744073434962215,            543259558,\n        18446744072843995569,           1009084850,           1419820249,\n                   665486194, 18446744072356297763]], dtype=uint64)"
     },
     "metadata": {},
     "execution_count": 19
    }
   ],
   "source": [
    "(train_X, train_y), (test_X, test_y) = data = ml_datasets.ud_ancora_pos_tags()\n",
    "print(train_X[0])\n",
    "print(f\"\\nSentente size: {len(train_X[0])}\")\n",
    "\n",
    "print(len(train_y[0]))\n",
    "print(train_y[0])\n",
    "\n",
    "\n",
    "# Transform a sequence of string sequences to a list of arrays.\n",
    "s2a = strings2arrays()\n",
    "emb, _ = s2a.begin_update(train_X[:1])\n",
    "\n",
    "print(f\"Output type: {type(emb)}\")\n",
    "print(f\"Output size: {len(emb)}\")\n",
    "print(f\"Output embedding type: {type(emb[0])}\")\n",
    "print(f\"Output embedding shape: {emb[0].shape}\")\n",
    "print(\"The result:\")\n",
    "emb[0].T"
   ]
  },
  {
   "cell_type": "code",
   "execution_count": 6,
   "metadata": {},
   "outputs": [],
   "source": [
    "# Transform sequence data into a contiguous two-dimensional array on the way into and out of a model.\n",
    "\n",
    "with_a = with_array(noop())\n",
    "a, _ = with_a.begin_update(emb)"
   ]
  },
  {
   "cell_type": "code",
   "execution_count": 10,
   "metadata": {},
   "outputs": [
    {
     "name": "stdout",
     "output_type": "stream",
     "text": [
      "Output type: <class 'list'>\n",
      "Output size: 1\n",
      "Output embedding type: <class 'numpy.ndarray'>\n",
      "Output embedding shape: (44, 1)\n"
     ]
    },
    {
     "data": {
      "text/plain": [
       "array([[18446744072083554475, 18446744073255727043,            543259558,\n",
       "        18446744072252264504,           1103121568,           1399176523,\n",
       "                   543259558,            797000761,           1617915982,\n",
       "        18446744072931898881,           1195312295,             87281376,\n",
       "                   543259558, 18446744071926469705,            723188833,\n",
       "        18446744072928539352,            543259558,            797000761,\n",
       "        18446744073045935379,            807352699,           1025333401,\n",
       "        18446744073667574632,            785491873, 18446744073006937574,\n",
       "                   823349694, 18446744072810868504,           1245366323,\n",
       "                   278659925, 18446744072541521126, 18446744073147948567,\n",
       "        18446744072252264504, 18446744071590211959,           1009084850,\n",
       "                   823349694,           1774907633,            543259558,\n",
       "                  1789020513, 18446744073434962215,            543259558,\n",
       "        18446744072843995569,           1009084850,           1419820249,\n",
       "                   665486194, 18446744072356297763]], dtype=uint64)"
      ]
     },
     "execution_count": 10,
     "metadata": {},
     "output_type": "execute_result"
    }
   ],
   "source": [
    "print(f\"Output type: {type(a)}\")\n",
    "print(f\"Output size: {len(a)}\")\n",
    "print(f\"Output embedding type: {type(a[0])}\")\n",
    "print(f\"Output embedding shape: {a[0].shape}\")\n",
    "a[0].T"
   ]
  },
  {
   "cell_type": "code",
   "execution_count": null,
   "metadata": {},
   "outputs": [],
   "source": []
  }
 ],
 "metadata": {
  "kernelspec": {
   "display_name": "Python 3",
   "language": "python",
   "name": "python3"
  },
  "language_info": {
   "codemirror_mode": {
    "name": "ipython",
    "version": 3
   },
   "file_extension": ".py",
   "mimetype": "text/x-python",
   "name": "python",
   "nbconvert_exporter": "python",
   "pygments_lexer": "ipython3",
   "version": "3.7.7-final"
  }
 },
 "nbformat": 4,
 "nbformat_minor": 4
}